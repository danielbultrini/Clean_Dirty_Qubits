{
 "cells": [
  {
   "attachments": {},
   "cell_type": "markdown",
   "metadata": {},
   "source": [
    "# Clean and dirty setup on qiskit \n",
    "This notebook contains an example of how you can use the provided code in `reproduce_figure_5_data.py` to both recreate the depolarizing noise version of the clean and dirty setup and plot the results. A small precomputed example for 4 qubits to 100 layers is provided in the results folder and can be visualized here.\n",
    "### Requirements\n",
    "Pandas (1.3.3), seaborn (0.11.2), numpy (1.23.4), qiskit (0.22.1), mthree (1.1.0.dev0)\n",
    "## Running \n",
    "The function `figure_5_data` allows a quick way to generate data similar to the paper. We used  a proprietary LANL code which sadly cannot be shared, but the eager reader is more than welcome to use and modify the provided code which is spread between `reproduce_figure_5_data.py`, `hamiltonian_utils.py`, `gradient_utils.py` and `circuit_utils.py`. \n"
   ]
  },
  {
   "cell_type": "code",
   "execution_count": 1,
   "metadata": {},
   "outputs": [
    {
     "name": "stderr",
     "output_type": "stream",
     "text": [
      "/home/danielb/miniconda3/envs/qiskit/lib/python3.9/site-packages/scipy/__init__.py:146: UserWarning: A NumPy version >=1.16.5 and <1.23.0 is required for this version of SciPy (detected version 1.23.4\n",
      "  warnings.warn(f\"A NumPy version >={np_minversion} and <{np_maxversion}\"\n"
     ]
    }
   ],
   "source": [
    "import pandas as pd\n",
    "import seaborn as sns\n",
    "import numpy as np\n",
    "from reproduce_figure_5_data import figure_5_data"
   ]
  },
  {
   "cell_type": "code",
   "execution_count": 16,
   "metadata": {},
   "outputs": [
    {
     "name": "stdout",
     "output_type": "stream",
     "text": [
      "Sim seed:  55\n",
      "     dirty qubits 4\n",
      "             Computing gradients for layers: 1\n",
      "             Computing gradients for layers: 51\n",
      "     dirty qubits 3\n",
      "             Computing gradients for layers: 1\n",
      "             Computing gradients for layers: 51\n",
      "     dirty qubits 2\n",
      "             Computing gradients for layers: 1\n",
      "             Computing gradients for layers: 51\n",
      "     dirty qubits 1\n",
      "             Computing gradients for layers: 1\n",
      "             Computing gradients for layers: 51\n",
      "     dirty qubits 0\n",
      "             Computing gradients for layers: 1\n",
      "             Computing gradients for layers: 51\n",
      "Sim seed:  66\n",
      "     dirty qubits 4\n",
      "             Computing gradients for layers: 1\n",
      "             Computing gradients for layers: 51\n",
      "     dirty qubits 3\n",
      "             Computing gradients for layers: 1\n",
      "             Computing gradients for layers: 51\n",
      "     dirty qubits 2\n",
      "             Computing gradients for layers: 1\n",
      "             Computing gradients for layers: 51\n",
      "     dirty qubits 1\n",
      "             Computing gradients for layers: 1\n",
      "             Computing gradients for layers: 51\n",
      "     dirty qubits 0\n",
      "             Computing gradients for layers: 1\n",
      "             Computing gradients for layers: 51\n",
      "Sim seed:  77\n",
      "     dirty qubits 4\n",
      "             Computing gradients for layers: 1\n",
      "             Computing gradients for layers: 51\n",
      "     dirty qubits 3\n",
      "             Computing gradients for layers: 1\n",
      "             Computing gradients for layers: 51\n",
      "     dirty qubits 2\n",
      "             Computing gradients for layers: 1\n",
      "             Computing gradients for layers: 51\n",
      "     dirty qubits 1\n",
      "             Computing gradients for layers: 1\n",
      "             Computing gradients for layers: 51\n",
      "     dirty qubits 0\n",
      "             Computing gradients for layers: 1\n",
      "             Computing gradients for layers: 51\n",
      "Sim seed:  88\n",
      "     dirty qubits 4\n",
      "             Computing gradients for layers: 1\n",
      "             Computing gradients for layers: 51\n",
      "     dirty qubits 3\n",
      "             Computing gradients for layers: 1\n",
      "             Computing gradients for layers: 51\n",
      "     dirty qubits 2\n",
      "             Computing gradients for layers: 1\n",
      "             Computing gradients for layers: 51\n",
      "     dirty qubits 1\n",
      "             Computing gradients for layers: 1\n",
      "             Computing gradients for layers: 51\n",
      "     dirty qubits 0\n",
      "             Computing gradients for layers: 1\n",
      "             Computing gradients for layers: 51\n",
      "Sim seed:  99\n",
      "     dirty qubits 4\n",
      "             Computing gradients for layers: 1\n",
      "             Computing gradients for layers: 51\n",
      "     dirty qubits 3\n",
      "             Computing gradients for layers: 1\n",
      "             Computing gradients for layers: 51\n",
      "     dirty qubits 2\n",
      "             Computing gradients for layers: 1\n",
      "             Computing gradients for layers: 51\n",
      "     dirty qubits 1\n",
      "             Computing gradients for layers: 1\n",
      "             Computing gradients for layers: 51\n",
      "     dirty qubits 0\n",
      "             Computing gradients for layers: 1\n",
      "             Computing gradients for layers: 51\n"
     ]
    }
   ],
   "source": [
    "if True:  # Set to true if you would like to run something different\n",
    "    df = figure_5_data(\n",
    "        max_layers=50,\n",
    "        layer_step_size=50,\n",
    "        num_qubits=4,\n",
    "        sim_seeds=[55,66,77,88,99],\n",
    "        single_qubit_depol_prob=2.425 * 1e-3,\n",
    "    )\n",
    "else: #use precomputed results\n",
    "    df = pd.read_pickle(\"results/precomputed_results.pkl\")"
   ]
  },
  {
   "cell_type": "code",
   "execution_count": 25,
   "metadata": {},
   "outputs": [],
   "source": [
    "df = pd.concat([pd.read_pickle('results/S_55-99_L_1-51_Q_4_depolarising_0.002425.pkl'), pd.read_pickle('results/S_5-9_L_1-11_Q_4_depolarising_0.002425.pkl'),pd.read_pickle('results/S_0-3_L_1-101_Q_4_depolarising_0.002425.pkl')])\n",
    "df['absGrad'] = np.abs(df['Grad'])/df.qubits"
   ]
  },
  {
   "cell_type": "code",
   "execution_count": 26,
   "metadata": {},
   "outputs": [],
   "source": [
    "df=df.reset_index()"
   ]
  },
  {
   "cell_type": "code",
   "execution_count": 27,
   "metadata": {},
   "outputs": [
    {
     "data": {
      "image/png": "[encoded data removed]",
      "text/plain": [
       "<Figure size 432x288 with 1 Axes>"
      ]
     },
     "metadata": {
      "needs_background": "light"
     },
     "output_type": "display_data"
    }
   ],
   "source": [
    "g = sns.lineplot(data=df, x=\"layers\", y=\"absGrad\", hue=\"NumCleanQubits\", ci=None,estimator=np.mean)\n",
    "g.set_yscale(\"log\")"
   ]
  },
  {
   "cell_type": "code",
   "execution_count": null,
   "metadata": {},
   "outputs": [],
   "source": []
  }
 ],
 "metadata": {
  "kernelspec": {
   "display_name": "qiskit",
   "language": "python",
   "name": "python3"
  },
  "language_info": {
   "codemirror_mode": {
    "name": "ipython",
    "version": 3
   },
   "file_extension": ".py",
   "mimetype": "text/x-python",
   "name": "python",
   "nbconvert_exporter": "python",
   "pygments_lexer": "ipython3",
   "version": "3.9.7"
  },
  "orig_nbformat": 4,
  "vscode": {
   "interpreter": {
    "hash": "07a015f6461ed991a9f840a79e63fad3c714ee8318eb759c4a8eb49c5922524a"
   }
  }
 },
 "nbformat": 4,
 "nbformat_minor": 2
}
