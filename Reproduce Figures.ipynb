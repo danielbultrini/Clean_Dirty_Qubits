{
 "cells": [
  {
   "attachments": {},
   "cell_type": "markdown",
   "metadata": {},
   "source": [
    "# The battle of clean and dirty qubits in the era of partial error correction.\n",
    "## Using the notebook\n",
    "This notebook requires Pandas (1.3.3), seaborn (0.11.2), numpy (1.23.4), matplotlib (3.4.3) and pyarrow (8.0.0) to run in full. Once the prerequisite packages are installed then everything should run in the cells. \n",
    "By default plots will be saved in the plots folder and not shown here. To change this, you may remove the `plt.close('all')` line to show them within the notebook. \n",
    "There are helper functions for plotting and computing error rates in `analyse.py`\n",
    "## Description of the dataframes\n",
    "The original data for the paper is stored in the provided dataframes which are stored in the 'feather' format. These can be opened using the pandas library. \n",
    "There are two files with the data presented in the paper in the results folder, `df_depolarizing.ftr` and `df_realistic.ftr`, which have the data for the \n",
    "realistic noise model and the depolarizing ones respectively. The columns of interest have the same name in both dataframes and they are described below:\n",
    "\n",
    "| Column Name        | Description                                         |\n",
    "|--------------------|-----------------------------------------------------|\n",
    "| Layers             | Number of layers in HVA.                            |\n",
    "| qubits             | Total number of qubits used in the HVA.             |\n",
    "| Grad               | Mean gradient values from parameter shift rule.          |\n",
    "| SimSeed            | Seed used for original simulation.                  |\n",
    "| Absolute Gradient  | Mean absolute value of Grad divided by number of qubits. |\n",
    "| $n_d$              | Number of dirty qubits.                             |\n",
    "| Setup:             | Variable error to all qubits or Clean and Dirty.    |\n",
    "| Scaled/Total Error | Alternative error measure used for plotting.        |\n",
    "\n",
    "There are some additional columns in the depolarizing dataframe, but they are redundant. You may generate similar data with the provided Qiskit code to arbitrary depth for the depolarizing noise model. "
   ]
  },
  {
   "cell_type": "code",
   "execution_count": 17,
   "metadata": {},
   "outputs": [],
   "source": [
    "import pandas as pd\n",
    "import seaborn as sns\n",
    "import numpy as np\n",
    "import matplotlib.pyplot as plt\n",
    "from analyse import *\n",
    "plt.rcParams['text.latex.preamble']=r\"\\usepackage{amsmath, nicefrac}\"\n",
    "\n",
    "sns.set_context(\"paper\", rc={'text.usetex' : True,\"font.size\":18,\"axes.titlesize\":18,\"axes.labelsize\":18,'xtick.labelsize' : 16,\n",
    "                             'ytick.labelsize' : 16, 'legend.fontsize':16, 'legend.loc':'lower left', 'legend.frameon':False, 'font.family':'serif', 'font.serif':'Times New Roman'\n",
    "})  \n",
    "\n",
    "### Loading dataframes\n",
    "df_depol = pd.read_pickle('./results/depol')\n",
    "df_real = pd.read_pickle('results/real')\n"
   ]
  },
  {
   "attachments": {},
   "cell_type": "markdown",
   "metadata": {},
   "source": [
    "## Figure 5a and figure 6a"
   ]
  },
  {
   "cell_type": "code",
   "execution_count": 2,
   "metadata": {},
   "outputs": [],
   "source": [
    "for qubit_no in [4,6,8]:\n",
    "    plot = facet_plot(\n",
    "        df_depol.query(f' qubits=={qubit_no} & `Setup:`==\"Clean and dirty\"'),\n",
    "        \"Scaled Error\",\n",
    "        \"Absolute Gradient\",\n",
    "        r\"$n_d$\",\n",
    "        \"Setup:\",\n",
    "        \"qubits\",\n",
    "        col_wrap=1,\n",
    "        estimator=np.mean\n",
    "     )\n",
    "    plot._legend.remove()\n",
    "    plot.set(yscale=\"log\",ylabel = r\"Absolute Gradient $\\overline{\\left |\\partial_{\\theta_k} C\\right |}$\", xlabel=r'$L\\frac{n_d}{n}$', title = f\"{qubit_no} Qubits\")\n",
    "    L = plot.axes[0].legend()\n",
    "    L.get_texts()[0].set_text(r'$n_d$')\n",
    "    L.get_texts()[qubit_no+2].set_text('Setup:')\n",
    "    L.get_texts()[qubit_no+3].set_text('Clean and dirty')\n",
    "    plt.legend(bbox_to_anchor=(1.05, 1), loc=2, borderaxespad=0.)\n",
    "    plt.tight_layout()\n",
    "    plot.savefig(f'./plots/ScaledErrCombindedDepol2{qubit_no}.svg')\n",
    "    plt.close('all') # this line can be commented to show plots inline\n",
    "\n",
    "for qubit_no in [4,6,8]:\n",
    "    plot = facet_plot(\n",
    "        df_depol.query(f' qubits=={qubit_no}'),\n",
    "        \"Layers\",\n",
    "        \"Absolute Gradient\",\n",
    "        r\"$n_d$\",\n",
    "        \"Setup:\",\n",
    "        \"qubits\",\n",
    "        col_wrap=1,\n",
    "        estimator=np.mean\n",
    "    )\n",
    "    plot._legend.remove()\n",
    "    plot.set(yscale=\"log\",ylabel = r\"Absolute Gradient $\\overline{\\left |\\partial_{\\theta_k} C\\right |}$\", title = f\"{qubit_no} Qubits\")\n",
    "    L = plot.axes[0].legend()\n",
    "    L.get_texts()[0].set_text(r'$n_d$')\n",
    "    L.get_texts()[qubit_no+2].set_text('Setup:')\n",
    "    L.get_texts()[qubit_no+3].set_text('Clean and dirty')\n",
    "    L.get_texts()[qubit_no+4].set_text('Variable error')\n",
    "    plt.legend(bbox_to_anchor=(1.05, 1), loc=2, borderaxespad=0.)\n",
    "    plt.tight_layout()\n",
    "    plot.savefig(f'./plots/CombindedDepol2{qubit_no}.svg')\n",
    "    plt.close('all')# this line can be commented to show plots inline\n"
   ]
  },
  {
   "attachments": {},
   "cell_type": "markdown",
   "metadata": {},
   "source": [
    "# Figures 5b and 6b"
   ]
  },
  {
   "cell_type": "code",
   "execution_count": null,
   "metadata": {},
   "outputs": [],
   "source": [
    "### Plotting realistic noise model\n",
    "for qubit_no in [4]:\n",
    "    realstic_full = facet_plot(\n",
    "        df_real.query(f' qubits=={qubit_no}'),\n",
    "        \"Layers\",\n",
    "        \"Absolute Gradient\",\n",
    "        r\"$n_d$\",\n",
    "        \"Setup:\",\n",
    "        \"qubits\",\n",
    "        col_wrap=1,\n",
    "        estimator=np.mean\n",
    "    )\n",
    "    realstic_full._legend.remove()\n",
    "    realstic_full.set(yscale=\"log\",ylabel = r\"Absolute Gradient $\\overline{\\left |\\partial_{\\theta_k} C\\right |}$\", title = f\"{qubit_no} Qubits\")\n",
    "    L = realstic_full.axes[0].legend()\n",
    "    L.get_texts()[0].set_text(r'$n_d$')\n",
    "    L.get_texts()[qubit_no+2].set_text('Setup:')\n",
    "    plt.legend(bbox_to_anchor=(1.05, 1), loc=2, borderaxespad=0.)\n",
    "    plt.tight_layout()\n",
    "    realstic_full.savefig(f'./plots/CombindedReal{qubit_no}.svg')\n",
    "    plt.close('all')# this line can be commented to show plots inline\n",
    "\n",
    "    \n",
    "for qubit_no in [4,6,8]:\n",
    "    realstic_full = facet_plot(\n",
    "        df_real.query(f' qubits=={qubit_no}'),\n",
    "        \"Total Error\",\n",
    "        \"Absolute Gradient\",\n",
    "        r\"$n_d$\",\n",
    "        \"Setup:\",\n",
    "        \"qubits\",\n",
    "        col_wrap=1,\n",
    "        estimator=np.mean\n",
    "    )\n",
    "    realstic_full._legend.remove()\n",
    "    realstic_full.set(yscale=\"log\",ylabel = r\"Absolute Gradient $\\overline{\\left |\\partial_{\\theta_k} C\\right |}$\", title = f\"{qubit_no} Qubits\")\n",
    "    L = realstic_full.axes[0].legend(loc='lower left')\n",
    "    L.get_texts()[0].set_text(r'$n_d$')\n",
    "    L.get_texts()[qubit_no+2].set_text('Setup:')\n",
    "    plt.legend(bbox_to_anchor=(1.05, 1), loc=2, borderaxespad=0.)\n",
    "    plt.tight_layout()\n",
    "    realstic_full.savefig(f'./plots/ScaledErrCombindedReal{qubit_no}.svg')\n",
    "    plt.close('all')# this line can be commented to show plots inline\n"
   ]
  }
 ],
 "metadata": {
  "kernelspec": {
   "display_name": "qiskit",
   "language": "python",
   "name": "python3"
  },
  "language_info": {
   "codemirror_mode": {
    "name": "ipython",
    "version": 3
   },
   "file_extension": ".py",
   "mimetype": "text/x-python",
   "name": "python",
   "nbconvert_exporter": "python",
   "pygments_lexer": "ipython3",
   "version": "3.9.7 (default, Sep 16 2021, 13:09:58) \n[GCC 7.5.0]"
  },
  "vscode": {
   "interpreter": {
    "hash": "07a015f6461ed991a9f840a79e63fad3c714ee8318eb759c4a8eb49c5922524a"
   }
  }
 },
 "nbformat": 4,
 "nbformat_minor": 4
}
